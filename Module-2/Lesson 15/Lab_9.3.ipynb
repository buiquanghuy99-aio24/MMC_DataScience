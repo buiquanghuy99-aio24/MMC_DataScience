{
  "cells": [
    {
      "cell_type": "markdown",
      "id": "b386e1b1",
      "metadata": {
        "id": "b386e1b1"
      },
      "source": [
        "# Lab: Làm việc với dữ liệu Object trong Pandas"
      ]
    },
    {
      "cell_type": "markdown",
      "id": "571e4f3e",
      "metadata": {
        "id": "571e4f3e"
      },
      "source": [
        "# Đọc dữ liệu từ file"
      ]
    },
    {
      "cell_type": "code",
      "execution_count": 1,
      "id": "c4b85446",
      "metadata": {},
      "outputs": [],
      "source": [
        "import pandas as pd"
      ]
    },
    {
      "cell_type": "code",
      "execution_count": 2,
      "id": "2acf8dbc",
      "metadata": {},
      "outputs": [
        {
          "data": {
            "text/html": [
              "<div>\n",
              "<style scoped>\n",
              "    .dataframe tbody tr th:only-of-type {\n",
              "        vertical-align: middle;\n",
              "    }\n",
              "\n",
              "    .dataframe tbody tr th {\n",
              "        vertical-align: top;\n",
              "    }\n",
              "\n",
              "    .dataframe thead th {\n",
              "        text-align: right;\n",
              "    }\n",
              "</style>\n",
              "<table border=\"1\" class=\"dataframe\">\n",
              "  <thead>\n",
              "    <tr style=\"text-align: right;\">\n",
              "      <th></th>\n",
              "      <th>App Name</th>\n",
              "      <th>App Id</th>\n",
              "      <th>Category</th>\n",
              "      <th>Rating</th>\n",
              "      <th>Rating Count</th>\n",
              "      <th>Installs</th>\n",
              "      <th>Minimum Installs</th>\n",
              "      <th>Maximum Installs</th>\n",
              "      <th>Free</th>\n",
              "      <th>Price</th>\n",
              "      <th>...</th>\n",
              "      <th>Developer Website</th>\n",
              "      <th>Developer Email</th>\n",
              "      <th>Released</th>\n",
              "      <th>Last Updated</th>\n",
              "      <th>Content Rating</th>\n",
              "      <th>Privacy Policy</th>\n",
              "      <th>Ad Supported</th>\n",
              "      <th>In App Purchases</th>\n",
              "      <th>Editors Choice</th>\n",
              "      <th>Scraped Time</th>\n",
              "    </tr>\n",
              "  </thead>\n",
              "  <tbody>\n",
              "    <tr>\n",
              "      <th>0</th>\n",
              "      <td>Gakondo</td>\n",
              "      <td>com.ishakwe.gakondo</td>\n",
              "      <td>Adventure</td>\n",
              "      <td>0.0</td>\n",
              "      <td>0.0</td>\n",
              "      <td>10+</td>\n",
              "      <td>10.0</td>\n",
              "      <td>15</td>\n",
              "      <td>True</td>\n",
              "      <td>0.0</td>\n",
              "      <td>...</td>\n",
              "      <td>https://beniyizibyose.tk/#/</td>\n",
              "      <td>jean21101999@gmail.com</td>\n",
              "      <td>Feb 26, 2020</td>\n",
              "      <td>Feb 26, 2020</td>\n",
              "      <td>Everyone</td>\n",
              "      <td>https://beniyizibyose.tk/projects/</td>\n",
              "      <td>False</td>\n",
              "      <td>False</td>\n",
              "      <td>False</td>\n",
              "      <td>2021-06-15 20:19:35</td>\n",
              "    </tr>\n",
              "    <tr>\n",
              "      <th>1</th>\n",
              "      <td>Ampere Battery Info</td>\n",
              "      <td>com.webserveis.batteryinfo</td>\n",
              "      <td>Tools</td>\n",
              "      <td>4.4</td>\n",
              "      <td>64.0</td>\n",
              "      <td>5,000+</td>\n",
              "      <td>5000.0</td>\n",
              "      <td>7662</td>\n",
              "      <td>True</td>\n",
              "      <td>0.0</td>\n",
              "      <td>...</td>\n",
              "      <td>https://webserveis.netlify.app/</td>\n",
              "      <td>webserveis@gmail.com</td>\n",
              "      <td>May 21, 2020</td>\n",
              "      <td>May 06, 2021</td>\n",
              "      <td>Everyone</td>\n",
              "      <td>https://dev4phones.wordpress.com/licencia-de-uso/</td>\n",
              "      <td>True</td>\n",
              "      <td>False</td>\n",
              "      <td>False</td>\n",
              "      <td>2021-06-15 20:19:35</td>\n",
              "    </tr>\n",
              "  </tbody>\n",
              "</table>\n",
              "<p>2 rows × 24 columns</p>\n",
              "</div>"
            ],
            "text/plain": [
              "              App Name                      App Id   Category  Rating  \\\n",
              "0              Gakondo         com.ishakwe.gakondo  Adventure     0.0   \n",
              "1  Ampere Battery Info  com.webserveis.batteryinfo      Tools     4.4   \n",
              "\n",
              "   Rating Count Installs  Minimum Installs  Maximum Installs  Free  Price  \\\n",
              "0           0.0      10+              10.0                15  True    0.0   \n",
              "1          64.0   5,000+            5000.0              7662  True    0.0   \n",
              "\n",
              "   ...                Developer Website         Developer Email      Released  \\\n",
              "0  ...      https://beniyizibyose.tk/#/  jean21101999@gmail.com  Feb 26, 2020   \n",
              "1  ...  https://webserveis.netlify.app/    webserveis@gmail.com  May 21, 2020   \n",
              "\n",
              "   Last Updated Content Rating  \\\n",
              "0  Feb 26, 2020       Everyone   \n",
              "1  May 06, 2021       Everyone   \n",
              "\n",
              "                                      Privacy Policy Ad Supported  \\\n",
              "0                 https://beniyizibyose.tk/projects/        False   \n",
              "1  https://dev4phones.wordpress.com/licencia-de-uso/         True   \n",
              "\n",
              "  In App Purchases Editors Choice         Scraped Time  \n",
              "0            False          False  2021-06-15 20:19:35  \n",
              "1            False          False  2021-06-15 20:19:35  \n",
              "\n",
              "[2 rows x 24 columns]"
            ]
          },
          "execution_count": 2,
          "metadata": {},
          "output_type": "execute_result"
        }
      ],
      "source": [
        "df_google_playstore = pd.read_csv('google-playstore-apps/Google-Playstore.csv')\n",
        "df_google_playstore.head(2)"
      ]
    },
    {
      "cell_type": "code",
      "execution_count": 3,
      "id": "ded12011",
      "metadata": {},
      "outputs": [],
      "source": [
        "df_google_playstore_copy = df_google_playstore.copy()"
      ]
    },
    {
      "cell_type": "code",
      "execution_count": 4,
      "id": "2361d808",
      "metadata": {
        "id": "2361d808",
        "outputId": "c3045122-6c66-4d97-9533-2461033b2209"
      },
      "outputs": [
        {
          "data": {
            "text/plain": [
              "0                jean21101999@gmails.com\n",
              "1                  webserveis@gmails.com\n",
              "2                   vnacrewit@gmails.com\n",
              "3           climatesmarttech2@gmails.com\n",
              "4             rmilekhorodyski@gmails.com\n",
              "                       ...              \n",
              "2312939             ssjjcomhk@gmails.com\n",
              "2312940       3DreamDeveloper@gmails.com\n",
              "2312941    appoworld.official@gmails.com\n",
              "2312942             ruchisono@gmails.com\n",
              "2312943       yyazilimdevelop@gmails.com\n",
              "Name: Developer Email, Length: 2312944, dtype: object"
            ]
          },
          "execution_count": 4,
          "metadata": {},
          "output_type": "execute_result"
        }
      ],
      "source": [
        "# Yêu cầu: thay đổi gmail.com ở Developer Email thành gmails.com\n",
        "df_google_playstore_copy['Developer Email'] = df_google_playstore_copy['Developer Email'].str.replace('gmail.com', 'gmails.com')\n",
        "df_google_playstore_copy['Developer Email']"
      ]
    },
    {
      "cell_type": "code",
      "execution_count": 5,
      "id": "6350f5b3",
      "metadata": {
        "id": "6350f5b3",
        "outputId": "954641df-835e-449e-fb84-34f6db751c0f"
      },
      "outputs": [
        {
          "data": {
            "text/plain": [
              "0           10MB\n",
              "1          2.9MB\n",
              "2          3.7MB\n",
              "3          1.8MB\n",
              "4          6.2MB\n",
              "           ...  \n",
              "2312939     77MB\n",
              "2312940     44MB\n",
              "2312941     29MB\n",
              "2312942     10MB\n",
              "2312943    5.2MB\n",
              "Name: Size, Length: 2312944, dtype: object"
            ]
          },
          "execution_count": 5,
          "metadata": {},
          "output_type": "execute_result"
        }
      ],
      "source": [
        "# Chuyển đổi M trong cột Size thành MB, k trong cột Size thành kB\n",
        "df_google_playstore_copy['Size'] = df_google_playstore_copy['Size'].str.replace('M', 'MB')\n",
        "df_google_playstore_copy['Size'] = df_google_playstore_copy['Size'].str.replace('k', 'kB')\n",
        "df_google_playstore_copy['Size']"
      ]
    },
    {
      "cell_type": "code",
      "execution_count": null,
      "id": "b45fc541",
      "metadata": {},
      "outputs": [],
      "source": [
        "# Yêu cầu: Lấy các giá trị trước dấu chấm \".\" đầu tiên trong App Id"
      ]
    },
    {
      "cell_type": "code",
      "execution_count": 14,
      "id": "24ef4c21",
      "metadata": {},
      "outputs": [
        {
          "data": {
            "text/plain": [
              "['com']"
            ]
          },
          "execution_count": 14,
          "metadata": {},
          "output_type": "execute_result"
        }
      ],
      "source": [
        "import re\n",
        "\n",
        "match = re.findall(r'^([^.]*)', 'com.ishakwe.gakondo')\n",
        "\n",
        "match"
      ]
    },
    {
      "cell_type": "code",
      "execution_count": 16,
      "id": "e47a0bbe",
      "metadata": {},
      "outputs": [
        {
          "data": {
            "text/html": [
              "<div>\n",
              "<style scoped>\n",
              "    .dataframe tbody tr th:only-of-type {\n",
              "        vertical-align: middle;\n",
              "    }\n",
              "\n",
              "    .dataframe tbody tr th {\n",
              "        vertical-align: top;\n",
              "    }\n",
              "\n",
              "    .dataframe thead th {\n",
              "        text-align: right;\n",
              "    }\n",
              "</style>\n",
              "<table border=\"1\" class=\"dataframe\">\n",
              "  <thead>\n",
              "    <tr style=\"text-align: right;\">\n",
              "      <th></th>\n",
              "      <th>0</th>\n",
              "    </tr>\n",
              "  </thead>\n",
              "  <tbody>\n",
              "    <tr>\n",
              "      <th>0</th>\n",
              "      <td>com</td>\n",
              "    </tr>\n",
              "    <tr>\n",
              "      <th>1</th>\n",
              "      <td>com</td>\n",
              "    </tr>\n",
              "    <tr>\n",
              "      <th>2</th>\n",
              "      <td>com</td>\n",
              "    </tr>\n",
              "    <tr>\n",
              "      <th>3</th>\n",
              "      <td>cst</td>\n",
              "    </tr>\n",
              "    <tr>\n",
              "      <th>4</th>\n",
              "      <td>com</td>\n",
              "    </tr>\n",
              "    <tr>\n",
              "      <th>...</th>\n",
              "      <td>...</td>\n",
              "    </tr>\n",
              "    <tr>\n",
              "      <th>2312939</th>\n",
              "      <td>com</td>\n",
              "    </tr>\n",
              "    <tr>\n",
              "      <th>2312940</th>\n",
              "      <td>com</td>\n",
              "    </tr>\n",
              "    <tr>\n",
              "      <th>2312941</th>\n",
              "      <td>datastructure</td>\n",
              "    </tr>\n",
              "    <tr>\n",
              "      <th>2312942</th>\n",
              "      <td>ishan</td>\n",
              "    </tr>\n",
              "    <tr>\n",
              "      <th>2312943</th>\n",
              "      <td>com</td>\n",
              "    </tr>\n",
              "  </tbody>\n",
              "</table>\n",
              "<p>2312944 rows × 1 columns</p>\n",
              "</div>"
            ],
            "text/plain": [
              "                     0\n",
              "0                  com\n",
              "1                  com\n",
              "2                  com\n",
              "3                  cst\n",
              "4                  com\n",
              "...                ...\n",
              "2312939            com\n",
              "2312940            com\n",
              "2312941  datastructure\n",
              "2312942          ishan\n",
              "2312943            com\n",
              "\n",
              "[2312944 rows x 1 columns]"
            ]
          },
          "execution_count": 16,
          "metadata": {},
          "output_type": "execute_result"
        }
      ],
      "source": [
        "df_google_playstore_copy['App Id'].str.extract(r'^([^.]*)')"
      ]
    },
    {
      "cell_type": "code",
      "execution_count": 17,
      "id": "b67da309",
      "metadata": {},
      "outputs": [
        {
          "data": {
            "text/html": [
              "<div>\n",
              "<style scoped>\n",
              "    .dataframe tbody tr th:only-of-type {\n",
              "        vertical-align: middle;\n",
              "    }\n",
              "\n",
              "    .dataframe tbody tr th {\n",
              "        vertical-align: top;\n",
              "    }\n",
              "\n",
              "    .dataframe thead th {\n",
              "        text-align: right;\n",
              "    }\n",
              "</style>\n",
              "<table border=\"1\" class=\"dataframe\">\n",
              "  <thead>\n",
              "    <tr style=\"text-align: right;\">\n",
              "      <th></th>\n",
              "      <th>0</th>\n",
              "      <th>1</th>\n",
              "    </tr>\n",
              "  </thead>\n",
              "  <tbody>\n",
              "    <tr>\n",
              "      <th>0</th>\n",
              "      <td>com</td>\n",
              "      <td>ishakwe.gakondo</td>\n",
              "    </tr>\n",
              "    <tr>\n",
              "      <th>1</th>\n",
              "      <td>com</td>\n",
              "      <td>webserveis.batteryinfo</td>\n",
              "    </tr>\n",
              "    <tr>\n",
              "      <th>2</th>\n",
              "      <td>com</td>\n",
              "      <td>doantiepvien.crm</td>\n",
              "    </tr>\n",
              "    <tr>\n",
              "      <th>3</th>\n",
              "      <td>cst</td>\n",
              "      <td>stJoseph.ug17ucs548</td>\n",
              "    </tr>\n",
              "    <tr>\n",
              "      <th>4</th>\n",
              "      <td>com</td>\n",
              "      <td>horodyski.grower</td>\n",
              "    </tr>\n",
              "    <tr>\n",
              "      <th>...</th>\n",
              "      <td>...</td>\n",
              "      <td>...</td>\n",
              "    </tr>\n",
              "    <tr>\n",
              "      <th>2312939</th>\n",
              "      <td>com</td>\n",
              "      <td>rxsj.ssjj</td>\n",
              "    </tr>\n",
              "    <tr>\n",
              "      <th>2312940</th>\n",
              "      <td>com</td>\n",
              "      <td>threedream.oruonline</td>\n",
              "    </tr>\n",
              "    <tr>\n",
              "      <th>2312941</th>\n",
              "      <td>datastructure</td>\n",
              "      <td>appoworld.datastucture</td>\n",
              "    </tr>\n",
              "    <tr>\n",
              "      <th>2312942</th>\n",
              "      <td>ishan</td>\n",
              "      <td>devi.suktam</td>\n",
              "    </tr>\n",
              "    <tr>\n",
              "      <th>2312943</th>\n",
              "      <td>com</td>\n",
              "      <td>yyazilim.biliyormusun</td>\n",
              "    </tr>\n",
              "  </tbody>\n",
              "</table>\n",
              "<p>2312944 rows × 2 columns</p>\n",
              "</div>"
            ],
            "text/plain": [
              "                     0                       1\n",
              "0                  com         ishakwe.gakondo\n",
              "1                  com  webserveis.batteryinfo\n",
              "2                  com        doantiepvien.crm\n",
              "3                  cst     stJoseph.ug17ucs548\n",
              "4                  com        horodyski.grower\n",
              "...                ...                     ...\n",
              "2312939            com               rxsj.ssjj\n",
              "2312940            com    threedream.oruonline\n",
              "2312941  datastructure  appoworld.datastucture\n",
              "2312942          ishan             devi.suktam\n",
              "2312943            com   yyazilim.biliyormusun\n",
              "\n",
              "[2312944 rows x 2 columns]"
            ]
          },
          "execution_count": 17,
          "metadata": {},
          "output_type": "execute_result"
        }
      ],
      "source": [
        "df_google_playstore_copy['App Id'].str.split('.', n=1, expand=True)"
      ]
    },
    {
      "cell_type": "code",
      "execution_count": 18,
      "id": "53d2ee92",
      "metadata": {},
      "outputs": [
        {
          "data": {
            "text/plain": [
              "0                    com\n",
              "1                    com\n",
              "2                    com\n",
              "3                    cst\n",
              "4                    com\n",
              "               ...      \n",
              "2312939              com\n",
              "2312940              com\n",
              "2312941    datastructure\n",
              "2312942            ishan\n",
              "2312943              com\n",
              "Name: 0, Length: 2312944, dtype: object"
            ]
          },
          "execution_count": 18,
          "metadata": {},
          "output_type": "execute_result"
        }
      ],
      "source": [
        "df_google_playstore_copy['App Id'].str.split('.', n=1, expand=True)[0]"
      ]
    },
    {
      "cell_type": "code",
      "execution_count": 19,
      "id": "42810b3d",
      "metadata": {},
      "outputs": [
        {
          "data": {
            "text/plain": [
              "array(['com', 'cst', 'getfreedata', ..., 'prosit', 'metai', 'nahnikali'],\n",
              "      dtype=object)"
            ]
          },
          "execution_count": 19,
          "metadata": {},
          "output_type": "execute_result"
        }
      ],
      "source": [
        "# Yêu cầu: Quan sát các giá trị duy nhất và số lượng của giá trị trước dấu chấm \".\" đầu tiên trong App Id\n",
        "(df_google_playstore_copy['App Id'].str.split('.', n=1, expand=True)[0]).unique()"
      ]
    },
    {
      "cell_type": "code",
      "execution_count": 20,
      "id": "40785368",
      "metadata": {
        "id": "40785368",
        "outputId": "b28c59b7-27d9-4f29-8847-63f80cced608"
      },
      "outputs": [
        {
          "data": {
            "text/plain": [
              "0          gmails.com\n",
              "1          gmails.com\n",
              "2          gmails.com\n",
              "3          gmails.com\n",
              "4          gmails.com\n",
              "              ...    \n",
              "2312939    gmails.com\n",
              "2312940    gmails.com\n",
              "2312941    gmails.com\n",
              "2312942    gmails.com\n",
              "2312943    gmails.com\n",
              "Name: Email Tail, Length: 2312944, dtype: object"
            ]
          },
          "execution_count": 20,
          "metadata": {},
          "output_type": "execute_result"
        }
      ],
      "source": [
        "# Yêu cầu: Tạo một cột mới chứa đuôi của Email trong Developer Email\n",
        "df_google_playstore['Email Tail'] = df_google_playstore_copy['Developer Email'].str.split('@', n=2, expand=True)[1]\n",
        "df_google_playstore['Email Tail']"
      ]
    }
  ],
  "metadata": {
    "colab": {
      "provenance": []
    },
    "kernelspec": {
      "display_name": "Python 3 (ipykernel)",
      "language": "python",
      "name": "python3"
    },
    "language_info": {
      "codemirror_mode": {
        "name": "ipython",
        "version": 3
      },
      "file_extension": ".py",
      "mimetype": "text/x-python",
      "name": "python",
      "nbconvert_exporter": "python",
      "pygments_lexer": "ipython3",
      "version": "3.10.14"
    }
  },
  "nbformat": 4,
  "nbformat_minor": 5
}
